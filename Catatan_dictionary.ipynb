{
 "cells": [
  {
   "cell_type": "markdown",
   "metadata": {},
   "source": [
    "Contoh dictionary (ingat menggunakan values() untuk mengakses values, keys() untuk mengakses values, dan get() untuk mencari values \"dapat menggunakan pengganti\")"
   ]
  },
  {
   "cell_type": "code",
   "execution_count": 122,
   "metadata": {},
   "outputs": [
    {
     "name": "stdout",
     "output_type": "stream",
     "text": [
      "10000\n"
     ]
    }
   ],
   "source": [
    "isi = {}                #Menggunakan {kurawal} untuk mengidentifikasi variabel sebagai dictionary\n",
    "isi[\"satu\"] = 1         #Memasukkan item ke dalam dictionary\n",
    "isi[\"dua\"] = \"10000\"    #Masuk item ke dua\n",
    "print(isi[\"dua\"])       #Memanggil item dengan key \"dua\""
   ]
  },
  {
   "cell_type": "code",
   "execution_count": 11,
   "metadata": {},
   "outputs": [
    {
     "name": "stdout",
     "output_type": "stream",
     "text": [
      "{'1': 'satu'}\n"
     ]
    }
   ],
   "source": [
    "isi = dict()            #Bisa juga menggunakan dict() untuk menidentifikasi var sebagai dict\n",
    "isi[\"1\"] = \"satu\"\n",
    "print(isi)              #Mengakses semua item pada dictionary"
   ]
  },
  {
   "cell_type": "code",
   "execution_count": 121,
   "metadata": {},
   "outputs": [
    {
     "name": "stdout",
     "output_type": "stream",
     "text": [
      "20000\n"
     ]
    }
   ],
   "source": [
    "isi = {}\n",
    "isi[\"satu\"] = 1\n",
    "isi[\"dua\"] = 10000 * 2\n",
    "print(isi[\"dua\"])       #Menggunakan operator untuk operasi value di dalam key"
   ]
  },
  {
   "cell_type": "code",
   "execution_count": 124,
   "metadata": {},
   "outputs": [
    {
     "name": "stdout",
     "output_type": "stream",
     "text": [
      "True\n"
     ]
    }
   ],
   "source": [
    "isi = dict()\n",
    "isi[\"1\"] = \"satu\"\n",
    "print(\"1\" in isi)       #Dict dapat menggunakan logical operator \"in\" seperti pada list"
   ]
  },
  {
   "cell_type": "markdown",
   "metadata": {},
   "source": [
    "Panjang Dictionary"
   ]
  },
  {
   "cell_type": "code",
   "execution_count": 7,
   "metadata": {},
   "outputs": [
    {
     "name": "stdout",
     "output_type": "stream",
     "text": [
      "2\n"
     ]
    }
   ],
   "source": [
    "isi = dict()\n",
    "isi[\"1\"] = \"satu\"\n",
    "isi[\"2\"] = \"dua\"\n",
    "print(len(isi))"
   ]
  },
  {
   "cell_type": "markdown",
   "metadata": {},
   "source": [
    "Cari value"
   ]
  },
  {
   "cell_type": "code",
   "execution_count": 8,
   "metadata": {},
   "outputs": [
    {
     "name": "stdout",
     "output_type": "stream",
     "text": [
      "True\n"
     ]
    }
   ],
   "source": [
    "isi = dict()\n",
    "isi[\"1\"] = \"satu\"\n",
    "isi[\"2\"] = \"dua\"\n",
    "print(\"satu\" in isi.values())"
   ]
  },
  {
   "cell_type": "markdown",
   "metadata": {},
   "source": [
    "Mencetak semua keys atau values yang ada di dictionary"
   ]
  },
  {
   "cell_type": "code",
   "execution_count": 12,
   "metadata": {},
   "outputs": [
    {
     "name": "stdout",
     "output_type": "stream",
     "text": [
      "dict_keys(['satu', 'dua', 'tiga'])\n",
      "dict_values(['1', '2', '3'])\n"
     ]
    }
   ],
   "source": [
    "isi = {\"satu\" : \"1\", \"dua\" : \"2\", \"tiga\": \"3\"}\n",
    "v = isi.keys()\n",
    "x = isi.values()\n",
    "print(v)\n",
    "print(x)"
   ]
  },
  {
   "cell_type": "markdown",
   "metadata": {},
   "source": [
    "Looping through the dictionary (looping di dictionary)"
   ]
  },
  {
   "cell_type": "code",
   "execution_count": 18,
   "metadata": {},
   "outputs": [
    {
     "name": "stdout",
     "output_type": "stream",
     "text": [
      "{'t': 1, 'i': 1, 'r': 2, 'a': 2, 'n': 1, 'o': 1, 's': 2, 'u': 2}\n"
     ]
    }
   ],
   "source": [
    "word = \"tiranosaurus\"           #Variabel yang berisi nilai (anggap saja input user)\n",
    "d = {}                          #Deklarasikan dictionary\n",
    "\n",
    "for char in word:               #Menyatakan \"selama setiap karakter anggota dari input, lakukan :\"\n",
    "    if char not in d:           #Pengecekan apakah karakter yang dimaksud sudah ada di dictionary\n",
    "        d[char] = 1             #Jika belum, maka set karakter tersebut sebagai key yang memiliki value 1\n",
    "    else:                       #Jika sudah :\n",
    "        d[char] += 1            #Jumlahkan value yang berada di dalam key tersebut dengan 1\n",
    "print(d)                        #cetak hasil"
   ]
  },
  {
   "cell_type": "code",
   "execution_count": 126,
   "metadata": {},
   "outputs": [
    {
     "name": "stdout",
     "output_type": "stream",
     "text": [
      "2\n"
     ]
    }
   ],
   "source": [
    "word = \"tiranosaurus\"\n",
    "d = {}\n",
    "\n",
    "for char in word:\n",
    "    if char not in d:\n",
    "        d[char] = 1\n",
    "    else:\n",
    "        d[char] += 1\n",
    "print(d[\"a\"])                         # Jika tak ada key-nya, maka akan memberikan hasil error'"
   ]
  },
  {
   "cell_type": "code",
   "execution_count": 129,
   "metadata": {},
   "outputs": [
    {
     "name": "stdout",
     "output_type": "stream",
     "text": [
      "Tidak ada\n"
     ]
    }
   ],
   "source": [
    "word = \"tiranosaurus\"\n",
    "d = {}\n",
    "for char in word:\n",
    "    if char not in d:\n",
    "        d[char] = 1\n",
    "    else:\n",
    "        d[char] += 1\n",
    "#print(d.get(\"z\",0))                    Kelebihan Get adalah supaya jika tidak ada key maka bisa diset dengan yg kita tentukan\n",
    "print(d.get(\"z\", \"Tidak ada\"))                   # Kelebihan Get adalah supaya jika tidak ada key maka bisa diset dengan yg kita tentukan"
   ]
  },
  {
   "cell_type": "code",
   "execution_count": 5,
   "metadata": {},
   "outputs": [
    {
     "name": "stdout",
     "output_type": "stream",
     "text": [
      "Flor de mayo....\n",
      "By the mile, I make perfect practice poses\n"
     ]
    }
   ],
   "source": [
    "d = dict()\n",
    "d[\"a\"] = \"Flor de mayo....\"                 #Sebuah item(berisi key-value) dibuat dan dimasukkan ke dalam dictionary\n",
    "print(d[\"a\"])                               #Mengakses key dan mencetak value\n",
    "print(d)                                    #Mengakses semua item dan mencetak semua item dict\n",
    "d[\"a\"] = \"By the mile\"                      #Mengganti value sebuah key\n",
    "d[\"b\"] = \", I make perfect practice poses\"  #Membuat item baru dan dimasukkan ke dalam dict\n",
    "print(d[\"a\"] + d[\"b\"])                      #Mengakses key a dan b lalu mencetak value (a + b) "
   ]
  },
  {
   "cell_type": "code",
   "execution_count": 12,
   "metadata": {},
   "outputs": [
    {
     "name": "stdout",
     "output_type": "stream",
     "text": [
      "{'s': 1, 'a': 2, 'y': 1}\n"
     ]
    }
   ],
   "source": [
    "w = \"saya\"\n",
    "d = dict()\n",
    "for char in w:\n",
    "    d[char] = d.get(char,0) + 1\n",
    "print(d)"
   ]
  },
  {
   "cell_type": "markdown",
   "metadata": {},
   "source": [
    "Hitung perkata (dump.txt)"
   ]
  },
  {
   "cell_type": "code",
   "execution_count": 24,
   "metadata": {},
   "outputs": [
    {
     "name": "stdout",
     "output_type": "stream",
     "text": [
      "{'But': 1, 'soft': 1, 'what': 1, 'light': 1, 'through': 1, 'yonder': 1, 'window': 1, 'breaks': 1, 'It': 1, 'is': 3, 'the': 3, 'east': 1, 'and': 3, 'Juliet': 1, 'sun': 2, 'Arise': 1, 'fair': 1, 'kill': 1, 'envious': 1, 'moon': 1, 'Who': 1, 'already': 1, 'sick': 1, 'pale': 1, 'with': 1, 'grief': 1}\n"
     ]
    }
   ],
   "source": [
    "file = open(\"dump.txt\")\n",
    "\n",
    "dictionary = dict()\n",
    "for line in file:\n",
    "    words = line.split()\n",
    "    for kata in words:\n",
    "        if kata not in dictionary:\n",
    "            dictionary[kata] = 1\n",
    "        else:\n",
    "            dictionary[kata] += 1\n",
    "print(dictionary)"
   ]
  },
  {
   "cell_type": "code",
   "execution_count": null,
   "metadata": {},
   "outputs": [],
   "source": [
    "file = open(\"dump.txt\")\n",
    "\n",
    "dictionary = dict()\n",
    "for line in file:\n",
    "    words = line.split()\n",
    "    for kata in words:\n",
    "        if kata not in dictionary:\n",
    "            dictionary[kata] = 1\n",
    "        else:\n",
    "            dictionary[kata] += 1\n",
    "print(dictionary)"
   ]
  },
  {
   "cell_type": "code",
   "execution_count": null,
   "metadata": {},
   "outputs": [],
   "source": [
    "fname = input('Enter the file name: ')\n",
    "try:\n",
    "    fhand = open(fname)\n",
    "except:\n",
    "    print('File cannot be opened:', fname)\n",
    "    exit()\n",
    "\n",
    "counts = dict()\n",
    "for line in fhand:\n",
    "    words = line.split()\n",
    "    for word in words:\n",
    "        if word not in counts:\n",
    "            counts[word] = 1\n",
    "        else:\n",
    "            counts[word] += 1\n",
    "print(counts)"
   ]
  },
  {
   "cell_type": "markdown",
   "metadata": {},
   "source": [
    "Tanpa lower"
   ]
  },
  {
   "cell_type": "code",
   "execution_count": 31,
   "metadata": {},
   "outputs": [
    {
     "name": "stdout",
     "output_type": "stream",
     "text": [
      "747\n"
     ]
    }
   ],
   "source": [
    "fname = input('Enter the file name: ')\n",
    "try:\n",
    "    fhand = open(fname)\n",
    "except:\n",
    "    print('File cannot be opened:', fname)\n",
    "    exit()\n",
    "\n",
    "counts = dict()\n",
    "for line in fhand:\n",
    "    words = line.split()\n",
    "    for word in words:\n",
    "        if word not in counts:\n",
    "            counts[word] = 1\n",
    "        else:\n",
    "            counts[word] += 1\n",
    "#print(counts)\n",
    "print(len(counts))                      #menghitung banyaknya keys\n"
   ]
  },
  {
   "cell_type": "markdown",
   "metadata": {},
   "source": [
    "Dengan lower"
   ]
  },
  {
   "cell_type": "code",
   "execution_count": 2,
   "metadata": {},
   "outputs": [
    {
     "name": "stdout",
     "output_type": "stream",
     "text": [
      "{'but': 1, 'soft': 1, 'what': 1, 'light': 1, 'through': 1, 'yonder': 1, 'window': 1, 'breaks': 1, 'it': 1, 'is': 3, 'the': 3, 'east': 1, 'and': 3, 'juliet': 1, 'sun': 2, 'arise': 1, 'fair': 1, 'kill': 1, 'envious': 1, 'moon': 1, 'who': 1, 'already': 1, 'sick': 1, 'pale': 1, 'with': 1, 'grief': 1}\n"
     ]
    }
   ],
   "source": [
    "fname = input('Enter the file name: ')\n",
    "try:\n",
    "    fhand = open(fname)\n",
    "except:\n",
    "    print('File cannot be opened:', fname)\n",
    "    exit()\n",
    "\n",
    "counts = dict()\n",
    "for line in fhand:\n",
    "    words = line.split()\n",
    "    for word in words:\n",
    "        word = word.lower()\n",
    "        if word not in counts:\n",
    "            counts[word] = 1\n",
    "        else:\n",
    "            counts[word] += 1\n",
    "print(counts)\n",
    "#print(len(counts))                           #menghitung banyaknya keys"
   ]
  },
  {
   "cell_type": "markdown",
   "metadata": {},
   "source": [
    "Menggunakan fungsi get()"
   ]
  },
  {
   "cell_type": "code",
   "execution_count": 34,
   "metadata": {},
   "outputs": [
    {
     "name": "stdout",
     "output_type": "stream",
     "text": [
      "26\n"
     ]
    }
   ],
   "source": [
    "fname = input('Enter the file name: ')\n",
    "try:\n",
    "    fhand = open(fname)\n",
    "except:\n",
    "    print('File cannot be opened:', fname)\n",
    "    exit()\n",
    "\n",
    "counts = dict()\n",
    "for line in fhand:\n",
    "    words = line.split()\n",
    "    for word in words:\n",
    "        word = word.lower()\n",
    "        if word not in counts:\n",
    "            counts[word] = counts.get(word,0) + 1\n",
    "#print(counts)\n",
    "print(len(counts))                      #menghitung banyaknya keys"
   ]
  },
  {
   "cell_type": "code",
   "execution_count": 35,
   "metadata": {},
   "outputs": [
    {
     "name": "stdout",
     "output_type": "stream",
     "text": [
      "['chuck', 'annie', 'jan']\n",
      "annie 42\n",
      "chuck 1\n",
      "jan 100\n"
     ]
    }
   ],
   "source": [
    "counts = { 'chuck' : 1 , 'annie' : 42, 'jan': 100}\n",
    "lst = list(counts.keys())\n",
    "print(lst)\n",
    "lst.sort()\n",
    "for key in lst:\n",
    "    print(key, counts[key])\n"
   ]
  },
  {
   "cell_type": "markdown",
   "metadata": {},
   "source": [
    "Import string fungsinya untuk "
   ]
  },
  {
   "cell_type": "code",
   "execution_count": 2,
   "metadata": {},
   "outputs": [
    {
     "name": "stdout",
     "output_type": "stream",
     "text": [
      "{'romeo': 40, 'and': 42, 'juliet': 32, 'act': 1, '2': 2, 'scene': 2, 'ii': 1, 'capulets': 1, 'orchard': 2, 'enter': 1, 'he': 5, 'jests': 1, 'at': 9, 'scars': 1, 'that': 30, 'never': 2, 'felt': 1, 'a': 24, 'wound': 1, 'appears': 1, 'above': 6, 'window': 2, 'but': 18, 'soft': 1, 'what': 11, 'light': 5, 'through': 2, 'yonder': 2, 'breaks': 1, 'it': 22, 'is': 21, 'the': 34, 'east': 1, 'sun': 2, 'arise': 1, 'fair': 4, 'kill': 2, 'envious': 2, 'moon': 4, 'who': 5, 'already': 1, 'sick': 2, 'pale': 1, 'with': 8, 'grief': 2, 'thou': 32, 'her': 14, 'maid': 2, 'art': 7, 'far': 2, 'more': 9, 'than': 6, 'she': 9, 'be': 14, 'not': 18, 'since': 1, 'vestal': 1, 'livery': 1, 'green': 1, 'none': 1, 'fools': 1, 'do': 7, 'wear': 1, 'cast': 1, 'off': 1, 'my': 29, 'lady': 2, 'o': 11, 'love': 24, 'knew': 1, 'were': 9, 'speaks': 3, 'yet': 9, 'says': 1, 'nothing': 1, 'of': 20, 'eye': 2, 'discourses': 1, 'i': 61, 'will': 8, 'answer': 1, 'am': 7, 'too': 8, 'bold': 1, 'tis': 4, 'to': 34, 'me': 18, 'two': 1, 'fairest': 1, 'stars': 2, 'in': 13, 'all': 6, 'heaven': 3, 'having': 1, 'some': 3, 'business': 1, 'entreat': 1, 'eyes': 6, 'twinkle': 1, 'their': 6, 'spheres': 1, 'till': 4, 'they': 5, 'return': 1, 'if': 12, 'there': 3, 'head': 2, 'brightness': 1, 'cheek': 4, 'would': 16, 'shame': 1, 'those': 2, 'as': 12, 'daylight': 1, 'doth': 2, 'lamp': 1, 'airy': 2, 'region': 1, 'stream': 1, 'so': 10, 'bright': 2, 'birds': 1, 'sing': 1, 'think': 2, 'night': 16, 'see': 2, 'how': 5, 'leans': 1, 'upon': 5, 'hand': 4, 'glove': 1, 'might': 1, 'touch': 1, 'ay': 2, 'speak': 4, 'again': 6, 'angel': 1, 'for': 12, 'glorious': 1, 'this': 9, 'being': 2, 'oer': 1, 'winged': 1, 'messenger': 1, 'unto': 1, 'whiteupturned': 1, 'wondering': 1, 'mortals': 1, 'fall': 1, 'back': 4, 'gaze': 1, 'on': 4, 'him': 2, 'when': 2, 'bestrides': 1, 'lazypacing': 1, 'clouds': 1, 'sails': 1, 'bosom': 1, 'air': 1, 'wherefore': 2, 'deny': 2, 'thy': 20, 'father': 1, 'refuse': 1, 'name': 11, 'or': 4, 'wilt': 6, 'sworn': 1, 'ill': 8, 'no': 6, 'longer': 1, 'capulet': 1, 'aside': 1, 'shall': 6, 'hear': 2, 'enemy': 2, 'thyself': 1, 'though': 1, 'montague': 5, 'whats': 2, 'nor': 5, 'foot': 2, 'arm': 1, 'face': 2, 'any': 4, 'other': 4, 'part': 2, 'belonging': 1, 'man': 2, 'which': 7, 'we': 2, 'call': 3, 'rose': 1, 'by': 14, 'smell': 1, 'sweet': 8, 'calld': 1, 'retain': 1, 'dear': 7, 'perfection': 1, 'owes': 1, 'without': 1, 'title': 1, 'doff': 1, 'thee': 24, 'take': 3, 'myself': 2, 'word': 4, 'new': 1, 'baptized': 1, 'henceforth': 1, 'thus': 1, 'bescreend': 1, 'stumblest': 1, 'counsel': 2, 'know': 3, 'tell': 3, 'saint': 2, 'hateful': 1, 'because': 1, 'an': 2, 'had': 1, 'written': 1, 'tear': 2, 'ears': 2, 'have': 13, 'drunk': 1, 'hundred': 1, 'words': 2, 'tongues': 2, 'utterance': 1, 'sound': 2, 'neither': 1, 'either': 1, 'dislike': 1, 'camest': 1, 'hither': 1, 'walls': 2, 'are': 3, 'high': 1, 'hard': 1, 'climb': 1, 'place': 2, 'death': 2, 'considering': 1, 'kinsmen': 2, 'find': 2, 'here': 4, 'loves': 3, 'wings': 1, 'did': 3, 'oerperch': 1, 'these': 2, 'stony': 1, 'limits': 1, 'cannot': 1, 'hold': 1, 'out': 2, 'can': 2, 'dares': 1, 'attempt': 1, 'therefore': 3, 'let': 3, 'murder': 1, 'alack': 1, 'lies': 2, 'peril': 1, 'thine': 2, 'twenty': 2, 'swords': 1, 'look': 1, 'proof': 1, 'against': 1, 'enmity': 1, 'world': 3, 'saw': 1, 'nights': 1, 'cloak': 1, 'hide': 1, 'from': 4, 'sight': 1, 'them': 1, 'life': 1, 'better': 1, 'ended': 1, 'hate': 1, 'prorogued': 1, 'wanting': 1, 'whose': 1, 'direction': 1, 'foundst': 1, 'first': 1, 'prompt': 1, 'inquire': 1, 'lent': 2, 'pilot': 1, 'wert': 1, 'vast': 1, 'shore': 1, 'washd': 1, 'farthest': 1, 'sea': 2, 'adventure': 1, 'such': 2, 'merchandise': 1, 'knowst': 1, 'mask': 1, 'else': 3, 'maiden': 1, 'blush': 1, 'bepaint': 1, 'hast': 1, 'heard': 1, 'tonight': 3, 'fain': 3, 'dwell': 2, 'form': 1, 'spoke': 1, 'farewell': 1, 'compliment': 1, 'dost': 2, 'say': 5, 'swearst': 1, 'mayst': 2, 'prove': 4, 'false': 1, 'lovers': 2, 'perjuries': 1, 'then': 2, 'jove': 1, 'laughs': 1, 'gentle': 1, 'pronounce': 1, 'faithfully': 1, 'thinkst': 1, 'quickly': 1, 'won': 1, 'frown': 1, 'perverse': 1, 'nay': 1, 'woo': 1, 'truth': 1, 'fond': 1, 'havior': 1, 'trust': 1, 'gentleman': 1, 'true': 3, 'cunning': 1, 'strange': 2, 'should': 2, 'been': 1, 'must': 1, 'confess': 1, 'overheardst': 1, 'ere': 2, 'was': 1, 'ware': 1, 'passion': 1, 'pardon': 1, 'impute': 1, 'yielding': 1, 'dark': 1, 'hath': 1, 'discovered': 1, 'blessed': 3, 'swear': 6, 'tips': 1, 'silver': 1, 'fruittree': 1, 'tops': 1, 'inconstant': 1, 'monthly': 1, 'changes': 1, 'circled': 1, 'orb': 1, 'lest': 1, 'likewise': 1, 'variable': 1, 'gracious': 1, 'self': 1, 'god': 1, 'idolatry': 1, 'believe': 1, 'hearts': 1, 'well': 2, 'although': 1, 'joy': 2, 'contract': 1, 'rash': 1, 'unadvised': 1, 'sudden': 1, 'like': 3, 'lightning': 1, 'cease': 2, 'one': 2, 'lightens': 1, 'good': 9, 'bud': 1, 'summers': 1, 'ripening': 1, 'breath': 1, 'may': 2, 'beauteous': 1, 'flower': 1, 'next': 1, 'meet': 1, 'repose': 1, 'rest': 2, 'come': 5, 'heart': 1, 'within': 5, 'breast': 2, 'leave': 2, 'unsatisfied': 1, 'satisfaction': 1, 'canst': 1, 'exchange': 1, 'faithful': 1, 'vow': 1, 'mine': 3, 'gave': 1, 'before': 1, 'didst': 1, 'request': 1, 'give': 3, 'wouldst': 1, 'withdraw': 1, 'purpose': 2, 'frank': 1, 'wish': 1, 'thing': 1, 'bounty': 1, 'boundless': 1, 'deep': 1, 'both': 1, 'infinite': 1, 'nurse': 4, 'calls': 2, 'noise': 1, 'adieu': 1, 'anon': 1, 'stay': 2, 'little': 2, 'exit': 4, 'afeard': 1, 'dream': 1, 'flatteringsweet': 1, 'substantial': 1, 'reenter': 2, 'three': 1, 'indeed': 1, 'bent': 1, 'honourable': 1, 'marriage': 1, 'send': 3, 'tomorrow': 3, 'procure': 1, 'where': 2, 'time': 1, 'perform': 1, 'rite': 1, 'fortunes': 1, 'lay': 1, 'follow': 1, 'lord': 1, 'throughout': 1, 'madam': 2, 'anonbut': 1, 'meanst': 1, 'beseech': 1, 'suit': 1, 'thrive': 1, 'soul': 2, 'thousand': 2, 'times': 2, 'worse': 1, 'want': 1, 'goes': 1, 'toward': 2, 'schoolboys': 1, 'books': 1, 'school': 1, 'heavy': 1, 'looks': 1, 'retiring': 1, 'hist': 2, 'falconers': 1, 'voice': 1, 'lure': 1, 'tasselgentle': 1, 'bondage': 1, 'hoarse': 2, 'aloud': 1, 'cave': 1, 'echo': 1, 'make': 1, 'tongue': 1, 'repetition': 1, 'romeos': 1, 'silversweet': 1, 'softest': 1, 'music': 1, 'attending': 1, 'oclock': 1, 'hour': 1, 'nine': 1, 'fail': 1, 'years': 1, 'forgot': 1, 'why': 1, 'stand': 2, 'remember': 1, 'forget': 2, 'still': 3, 'remembering': 1, 'company': 1, 'forgetting': 1, 'home': 1, 'almost': 1, 'morning': 1, 'gone': 1, 'further': 1, 'wantons': 1, 'bird': 2, 'lets': 1, 'hop': 1, 'poor': 1, 'prisoner': 1, 'his': 3, 'twisted': 1, 'gyves': 1, 'silk': 1, 'thread': 1, 'plucks': 1, 'lovingjealous': 1, 'liberty': 1, 'much': 1, 'cherishing': 1, 'parting': 1, 'sorrow': 1, 'morrow': 1, 'sleep': 2, 'peace': 2, 'hence': 1, 'ghostly': 1, 'fathers': 1, 'cell': 1, 'help': 1, 'crave': 1, 'hap': 1}\n",
      "551\n"
     ]
    }
   ],
   "source": [
    "import string\n",
    "\n",
    "fname = input('Enter the file name: ')\n",
    "try:\n",
    "    fhand = open(fname)\n",
    "except:\n",
    "    print('File cannot be opened:', fname)\n",
    "    exit()\n",
    "\n",
    "counts = dict()\n",
    "for line in fhand:\n",
    "    line = line.rstrip()\n",
    "    line = line.translate(line.maketrans('', '', string.punctuation))\n",
    "    line = line.lower()\n",
    "    words = line.split()\n",
    "    for word in words:\n",
    "        word = word.lower()\n",
    "        if word not in counts:\n",
    "            counts[word] = 1\n",
    "        else:\n",
    "            counts[word] += 1\n",
    "print(counts)\n",
    "print(len(counts))                           #menghitung banyaknya keys\n"
   ]
  },
  {
   "cell_type": "code",
   "execution_count": 7,
   "metadata": {},
   "outputs": [
    {
     "data": {
      "text/plain": [
       "1"
      ]
     },
     "execution_count": 7,
     "metadata": {},
     "output_type": "execute_result"
    }
   ],
   "source": [
    "counts = { 'chuck' : 1 , 'annie' : 42, 'jan': 100}\n",
    "counts[\"chuck\"]"
   ]
  },
  {
   "cell_type": "code",
   "execution_count": 16,
   "metadata": {},
   "outputs": [
    {
     "ename": "TypeError",
     "evalue": "'dict' object is not callable",
     "output_type": "error",
     "traceback": [
      "\u001b[1;31m---------------------------------------------------------------------------\u001b[0m",
      "\u001b[1;31mTypeError\u001b[0m                                 Traceback (most recent call last)",
      "Cell \u001b[1;32mIn[16], line 15\u001b[0m\n\u001b[0;32m     13\u001b[0m \u001b[38;5;28;01melse\u001b[39;00m:\n\u001b[0;32m     14\u001b[0m     thisdict\u001b[38;5;241m.\u001b[39mget(i, \u001b[38;5;124m\"\u001b[39m\u001b[38;5;124mnot found\u001b[39m\u001b[38;5;124m\"\u001b[39m)\n\u001b[1;32m---> 15\u001b[0m \u001b[38;5;28mprint\u001b[39m(\u001b[43mthisdict\u001b[49m\u001b[43m(\u001b[49m\u001b[38;5;124;43m\"\u001b[39;49m\u001b[38;5;124;43mthis\u001b[39;49m\u001b[38;5;124;43m\"\u001b[39;49m\u001b[43m)\u001b[49m)\n",
      "\u001b[1;31mTypeError\u001b[0m: 'dict' object is not callable"
     ]
    }
   ],
   "source": [
    "thisdict = {\n",
    "  \"brand\": \"Ford\",\n",
    "  \"model\": \"Mustang\",\n",
    "  \"year\": 1964,\n",
    "  \"model\": \"Gigi\"\n",
    "}\n",
    "\n",
    "# print(thisdict.get(\"Chuck\", \"not found\"))\n",
    "\n",
    "for i in thisdict:\n",
    "    if i in thisdict:\n",
    "        thisdict.get(i)\n",
    "    else:\n",
    "        thisdict.get(i, \"not found\")"
   ]
  },
  {
   "cell_type": "code",
   "execution_count": 25,
   "metadata": {},
   "outputs": [
    {
     "name": "stdout",
     "output_type": "stream",
     "text": [
      "Hasil akhir : {'kazuya': 'onichan', 'saya': 'suka'}\n"
     ]
    }
   ],
   "source": [
    "hasil = {\"kazuya\": \"onichan\"}\n",
    "while True:\n",
    "    inputan = input(\"masukkan dictionary baru (key:value) atau ketik 'selesai' untuk keluar: \") \n",
    "    if inputan.lower() == \"selesai\":\n",
    "        break\n",
    "    key, value = inputan.split(\":\")\n",
    "    hasil[key] = value\n",
    "print(\"Hasil akhir :\", hasil)"
   ]
  },
  {
   "cell_type": "code",
   "execution_count": 28,
   "metadata": {},
   "outputs": [
    {
     "name": "stdout",
     "output_type": "stream",
     "text": [
      "Hasil akhir: {'kazuya': 'onichan', 'saya ': ' kamu'}\n"
     ]
    }
   ],
   "source": [
    "def tambah_dictionary(hasil):\n",
    "    while True:\n",
    "        inputan = input(\"Masukkan dictionary baru (key:value) atau ketik 'selesai' untuk keluar: \") \n",
    "        if inputan.lower() == \"selesai\":\n",
    "            break\n",
    "        key, value = inputan.split(\":\")\n",
    "        hasil[key] = value  \n",
    "    return hasil\n",
    "hasil = {\"kazuya\": \"onichan\"}\n",
    "hasil = tambah_dictionary(hasil)\n",
    "print(\"Hasil akhir:\", hasil)\n"
   ]
  },
  {
   "cell_type": "code",
   "execution_count": 40,
   "metadata": {},
   "outputs": [
    {
     "name": "stdout",
     "output_type": "stream",
     "text": [
      "082248525775\n"
     ]
    }
   ],
   "source": [
    "saya = \"082248525775\"\n",
    "\n",
    "if saya[:4] == \"0812\" or saya[:4] in \"0822\":\n",
    "    print(saya)"
   ]
  },
  {
   "cell_type": "code",
   "execution_count": 46,
   "metadata": {},
   "outputs": [
    {
     "ename": "TypeError",
     "evalue": "unhashable type: 'dict'",
     "output_type": "error",
     "traceback": [
      "\u001b[1;31m---------------------------------------------------------------------------\u001b[0m",
      "\u001b[1;31mTypeError\u001b[0m                                 Traceback (most recent call last)",
      "Cell \u001b[1;32mIn[46], line 6\u001b[0m\n\u001b[0;32m      1\u001b[0m hasil \u001b[38;5;241m=\u001b[39m {\n\u001b[0;32m      2\u001b[0m     \u001b[38;5;124m\"\u001b[39m\u001b[38;5;124msaya\u001b[39m\u001b[38;5;124m\"\u001b[39m : \u001b[38;5;124m\"\u001b[39m\u001b[38;5;124mI\u001b[39m\u001b[38;5;124m\"\u001b[39m,\n\u001b[0;32m      3\u001b[0m     \u001b[38;5;124m\"\u001b[39m\u001b[38;5;124mkamu\u001b[39m\u001b[38;5;124m\"\u001b[39m : \u001b[38;5;124m\"\u001b[39m\u001b[38;5;124myou\u001b[39m\u001b[38;5;124m\"\u001b[39m\n\u001b[0;32m      4\u001b[0m }\n\u001b[1;32m----> 6\u001b[0m \u001b[38;5;28mprint\u001b[39m(\u001b[43mhasil\u001b[49m\u001b[43m[\u001b[49m\u001b[43mhasil\u001b[49m\u001b[43m]\u001b[49m)\n",
      "\u001b[1;31mTypeError\u001b[0m: unhashable type: 'dict'"
     ]
    }
   ],
   "source": [
    "hasil = {\n",
    "    \"saya\" : \"I\",\n",
    "    \"kamu\" : \"you\"\n",
    "}\n",
    "\n",
    "print(hasil[    ])"
   ]
  },
  {
   "cell_type": "code",
   "execution_count": 52,
   "metadata": {},
   "outputs": [
    {
     "name": "stdout",
     "output_type": "stream",
     "text": [
      "['Adi']\n"
     ]
    }
   ],
   "source": [
    "import re\n",
    "\n",
    "def cari_berdasar_operator(contacts, operator):\n",
    "    operator = operator.lower()\n",
    "    if operator == \"telkomsel\":\n",
    "        for kontak in contacts:\n",
    "            if \"0812\" in contacts[kontak] or \"0822\" in contacts[kontak]:\n",
    "                return kontak\n",
    "    elif operator == \"im3\":\n",
    "        for kontak in contacts:\n",
    "            if \"0856\" in contacts[kontak] or \"0857\" in contacts[kontak] or \"0858\" in contacts[kontak]:\n",
    "                hasil = []\n",
    "                hasil.append(kontak)\n",
    "                return hasil\n",
    "    elif operator == \"three\":\n",
    "        for kontak in contacts:\n",
    "            if \"0898\" in contacts[kontak]:\n",
    "                return kontak\n",
    "    \n",
    "\n",
    "contacts = {\n",
    "    'Badu' : '089879938817',\n",
    "    'Hana' : '0818662514110',\n",
    "    'Seto' : '08122290909',\n",
    "    'Adi'  : '0856808080012',\n",
    "    'Pace' : '0858000000000'\n",
    "}\n",
    "operator = 'im3'\n",
    "hasil = cari_berdasar_operator(contacts, operator)\n",
    "print(hasil)"
   ]
  },
  {
   "cell_type": "code",
   "execution_count": 56,
   "metadata": {},
   "outputs": [
    {
     "name": "stdout",
     "output_type": "stream",
     "text": [
      "['Adi', 'Pace']\n"
     ]
    }
   ],
   "source": [
    "import re\n",
    "# fungsi ini harus return sebuah list yang sudah diurutkan (gunakan fungsi sorted())\n",
    "def cari_berdasar_operator(contacts, operator):\n",
    "    operator = operator.lower()\n",
    "    hasil = []\n",
    "    for kontak in contacts:\n",
    "        if operator == \"telkomsel\":\n",
    "            if \"0812\" in contacts[kontak] or \"0822\" in contacts[kontak]:\n",
    "                hasil.append(kontak)\n",
    "        if operator == \"im3\":\n",
    "            if \"0856\" in contacts[kontak] or \"0857\" in contacts[kontak] or \"0858\" in contacts[kontak]:\n",
    "                hasil.append(kontak)\n",
    "        if operator == \"three\":\n",
    "            if \"0898\" in contacts[kontak]:\n",
    "                hasil.append(kontak)\n",
    "        if operator == \"xl\":\n",
    "            if \"0817\" in contacts[kontak] or \"0818\" in contacts[kontak]:\n",
    "                hasil.append(kontak)\n",
    "    return hasil\n",
    "    \n",
    "\n",
    "contacts = {\n",
    "    'Badu' : '089879938817',\n",
    "    'Hana' : '0818662514110',\n",
    "    'Seto' : '08122290909',\n",
    "    'Adi'  : '0856808080012',\n",
    "    'Pace' : '0858000000000'\n",
    "}\n",
    "operator = 'im3'\n",
    "hasil = cari_berdasar_operator(contacts, operator)\n",
    "print(hasil)"
   ]
  },
  {
   "cell_type": "code",
   "execution_count": 119,
   "metadata": {},
   "outputs": [
    {
     "name": "stdout",
     "output_type": "stream",
     "text": [
      "{395: ['Vika'], 427: ['Mutu'], 680: ['Bambang'], 828: ['Christan']}\n",
      "{395: ['Vaki', 'Vika'], 427: ['Mutu'], 680: ['Bambang'], 828: ['Christan']}\n"
     ]
    }
   ],
   "source": [
    "def sortByASCII(list_name):\n",
    "    hasil = dict()\n",
    "    for nama in list_name:\n",
    "        angka = 0\n",
    "        for huruf in nama:\n",
    "            angka += ord(huruf)\n",
    "        hasil[angka] = hasil.get(angka,[]) + [nama]\n",
    "        hasil[angka].sort()\n",
    "\n",
    "    return dict(sorted(hasil.items()))\n",
    "\n",
    "test = [\"Christan\", \"Mutu\", \"Vika\", \"Bambang\"]\n",
    "print(sortByASCII(test))\n",
    "test = [\"Vika\", \"Christan\", \"Mutu\", \"Vaki\", \"Bambang\"]\n",
    "print(sortByASCII(test))"
   ]
  },
  {
   "cell_type": "code",
   "execution_count": 96,
   "metadata": {},
   "outputs": [
    {
     "ename": "TypeError",
     "evalue": "list indices must be integers or slices, not str",
     "output_type": "error",
     "traceback": [
      "\u001b[1;31m---------------------------------------------------------------------------\u001b[0m",
      "\u001b[1;31mTypeError\u001b[0m                                 Traceback (most recent call last)",
      "Cell \u001b[1;32mIn[96], line 6\u001b[0m\n\u001b[0;32m      4\u001b[0m     nama \u001b[38;5;241m=\u001b[39m \u001b[38;5;28mlist\u001b[39m(nama)\n\u001b[0;32m      5\u001b[0m     \u001b[38;5;28;01mfor\u001b[39;00m huruf \u001b[38;5;129;01min\u001b[39;00m nama:\n\u001b[1;32m----> 6\u001b[0m         value \u001b[38;5;241m=\u001b[39m \u001b[38;5;28mord\u001b[39m(\u001b[43ma\u001b[49m\u001b[43m[\u001b[49m\u001b[43mhuruf\u001b[49m\u001b[43m]\u001b[49m)\n\u001b[0;32m      7\u001b[0m         hasil\u001b[38;5;241m.\u001b[39mappend(value)\n\u001b[0;32m      8\u001b[0m \u001b[38;5;28mprint\u001b[39m(\u001b[38;5;28msum\u001b[39m(hasil))\n",
      "\u001b[1;31mTypeError\u001b[0m: list indices must be integers or slices, not str"
     ]
    }
   ],
   "source": [
    "a = [\"Christan\", \"Mutu\", \"Vika\", \"Bambang\"]\n",
    "hasil = []\n",
    "for nama in a:\n",
    "    nama = list(nama)\n",
    "    for huruf in nama:\n",
    "        value = ord(a[huruf])\n",
    "        hasil.append(value)\n",
    "print(sum(hasil))"
   ]
  },
  {
   "cell_type": "code",
   "execution_count": 115,
   "metadata": {},
   "outputs": [
    {
     "name": "stdout",
     "output_type": "stream",
     "text": [
      "395\n"
     ]
    }
   ],
   "source": [
    "a = \"Vika\"\n",
    "a = list(a)\n",
    "hasil = []\n",
    "for huruf in range(len(a)):\n",
    "    value = ord(a[huruf])\n",
    "    hasil.append(value)\n",
    "print(sum(hasil))"
   ]
  },
  {
   "cell_type": "code",
   "execution_count": 70,
   "metadata": {},
   "outputs": [
    {
     "name": "stdout",
     "output_type": "stream",
     "text": [
      "{0: 0, 1: 1, 2: 2, 3: 3, 4: 4, 5: 5, 6: 6, 7: 7, 8: 8, 9: 9}\n"
     ]
    }
   ],
   "source": [
    "hasil = dict()\n",
    "\n",
    "for i in range(10):\n",
    "    hasil[i] = i\n",
    "print(hasil)"
   ]
  },
  {
   "cell_type": "code",
   "execution_count": null,
   "metadata": {},
   "outputs": [],
   "source": [
    "hasil = dict()\n"
   ]
  }
 ],
 "metadata": {
  "kernelspec": {
   "display_name": "Python (other-env)",
   "language": "python",
   "name": "other-env"
  },
  "language_info": {
   "codemirror_mode": {
    "name": "ipython",
    "version": 3
   },
   "file_extension": ".py",
   "mimetype": "text/x-python",
   "name": "python",
   "nbconvert_exporter": "python",
   "pygments_lexer": "ipython3",
   "version": "3.11.5"
  }
 },
 "nbformat": 4,
 "nbformat_minor": 2
}
